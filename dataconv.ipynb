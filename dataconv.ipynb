{
 "cells": [
  {
   "cell_type": "code",
   "execution_count": 1,
   "metadata": {},
   "outputs": [],
   "source": [
    "import os\n",
    "import glob\n",
    "import numpy as np\n",
    "import pandas as pd\n",
    "import nibabel as nib\n",
    "\n",
    "import matplotlib.pyplot as plt"
   ]
  },
  {
   "cell_type": "code",
   "execution_count": 2,
   "metadata": {},
   "outputs": [],
   "source": [
    "FEATURES_PATH = \"data/ds001246/derivatives/preproc-spm/output\"\n",
    "TARGETS_PATH = \"data/ds001246\"\n",
    "TRAIN_CATEGORIES_PATH = \"data/ds001246/stimulus_ImageNetTraining.csv\"\n",
    "TEST_CATEGORIES_PATH = \"data/ds001246/stimulus_ImageNetTest.csv\"\n",
    "PROCESSED_PATH = \"data/10classes\""
   ]
  },
  {
   "cell_type": "code",
   "execution_count": 3,
   "metadata": {},
   "outputs": [],
   "source": [
    "categories = pd.read_csv(TRAIN_CATEGORIES_PATH, sep=\"\\t\", header=None)"
   ]
  },
  {
   "cell_type": "code",
   "execution_count": 4,
   "metadata": {},
   "outputs": [],
   "source": [
    "# restric\n",
    "# category_labels = {\n",
    "#     \"ostrich\": \"n01518878\",\n",
    "#     \"hummingbird\": \"n01833805\",\n",
    "#     \"battleplane\": \"n02692877\",\n",
    "#     \"backpack\": \"n02769748\",\n",
    "#     \"frog\": \"n01639765\",\n",
    "#     \"watermelon\": \"n07756951\",\n",
    "#     \"hot air balloon\": \"n03541923\",\n",
    "#     \"light bulb\": \"n03665924\",\n",
    "#     \"coffee cup\": \"n03063599\",\n",
    "#     \"horse\": \"n02374451\",\n",
    "# }\n",
    "\n",
    "category_numbers = {\n",
    "    \"1\": \"n01518878\",\n",
    "    \"3\": \"n01833805\",\n",
    "    \"7\": \"n02692877\",\n",
    "    \"4\": \"n02769748\",\n",
    "    \"2\": \"n01639765\",\n",
    "    \"10\": \"n07756951\",\n",
    "    \"8\": \"n03541923\",\n",
    "    \"9\": \"n03665924\",\n",
    "    \"6\": \"n03063599\",\n",
    "    \"5\": \"n02374451\",\n",
    "    \"-1\": \"n00000000\",\n",
    "}\n",
    "\n",
    "category_map = {v: int(k) for k, v in category_numbers.items()}"
   ]
  },
  {
   "cell_type": "code",
   "execution_count": 12,
   "metadata": {},
   "outputs": [],
   "source": [
    "def convert(subject=\"01\", session_id=\"01\", task=\"perception\", train=True):\n",
    "    session = f\"{task}{'Training' if train else 'Test'}{session_id}\"\n",
    "\n",
    "    # load data\n",
    "    feature_runs = sorted(glob.glob(f\"{FEATURES_PATH}/sub-{subject}/ses-{session}/func/*\"))\n",
    "    target_runs = sorted(glob.glob(f\"{TARGETS_PATH}/sub-{subject}/ses-{session}/func/*events*\"))\n",
    "    categories = pd.read_csv(TRAIN_CATEGORIES_PATH if train else TEST_CATEGORIES_PATH, sep=\"\\t\", header=None)\n",
    "    categories[\"label\"] = [\n",
    "        category_map[lab.split(\"_\")[0]] if lab.split(\"_\")[0] in category_map else -1\n",
    "        for lab in categories[0]\n",
    "    ]\n",
    "\n",
    "    # process features and targets\n",
    "    features = []\n",
    "    targets = []\n",
    "\n",
    "    for f_run, t_run in zip(feature_runs, target_runs):\n",
    "        features_run = nib.load(f_run).get_fdata()\n",
    "        targets_run = pd.read_csv(t_run, sep=\"\\t\")\n",
    "\n",
    "        # remove resting states\n",
    "        features_run_pp = features_run[:, :, :, 8:-2]\n",
    "        targets_run_pp = targets_run[targets_run[\"event_type\"] != \"rest\"]\n",
    "\n",
    "        # reshape features into (N, C, D, W, H)\n",
    "        features_run_pp = features_run_pp.transpose(3, 2, 1, 0).reshape(-1, 3, 50, 64, 64)\n",
    "\n",
    "        # extract category labels\n",
    "        targets_run_pp = targets_run_pp.merge(categories, left_on=\"stim_id\", right_on=1)[\"label\"]\n",
    "        targets_run_pp = targets_run_pp.to_numpy().reshape(-1, 1)\n",
    "\n",
    "        # restriction mask\n",
    "        restricted_classes = (targets_run_pp > -1).flatten()\n",
    "        features_run_pp = features_run_pp[restricted_classes, :, :, :, :]\n",
    "        targets_run_pp = targets_run_pp[restricted_classes]\n",
    "\n",
    "        features.append(features_run_pp)\n",
    "        targets.append(targets_run_pp)\n",
    "\n",
    "    features = np.vstack(features)\n",
    "    targets = np.vstack(targets)\n",
    "\n",
    "    # convert and store as tensors\n",
    "    # features = torch.from_numpy(features).float()\n",
    "    # targets = torch.from_numpy(targets).long() - 1\n",
    "\n",
    "    # flatten targets\n",
    "    targets = targets.squeeze()\n",
    "\n",
    "    # save to disk\n",
    "    os.makedirs(f\"{PROCESSED_PATH}/sub-{subject}/ses-{session}/fmris\", exist_ok=True)\n",
    "    os.makedirs(f\"{PROCESSED_PATH}/sub-{subject}/ses-{session}/categories\", exist_ok=True)\n",
    "\n",
    "    for i, (f, t) in enumerate(zip(features, targets)):\n",
    "        np.save(f\"{PROCESSED_PATH}/sub-{subject}/ses-{session}/fmris/{i}.npy\", f)\n",
    "        np.save(f\"{PROCESSED_PATH}/sub-{subject}/ses-{session}/categories/{i}.npy\", t)"
   ]
  },
  {
   "cell_type": "code",
   "execution_count": 19,
   "metadata": {},
   "outputs": [
    {
     "data": {
      "text/plain": [
       "array([ 1,  2,  3,  4,  5,  6,  7,  8,  9, 10])"
      ]
     },
     "execution_count": 19,
     "metadata": {},
     "output_type": "execute_result"
    }
   ],
   "source": [
    "t1 = convert(subject=\"01\", session_id=\"01\", task=\"perception\", train=True)\n",
    "np.unique(t1)"
   ]
  },
  {
   "cell_type": "code",
   "execution_count": 20,
   "metadata": {},
   "outputs": [
    {
     "data": {
      "text/plain": [
       "array([ 1,  2,  3,  4,  5,  6,  7,  8,  9, 10])"
      ]
     },
     "execution_count": 20,
     "metadata": {},
     "output_type": "execute_result"
    }
   ],
   "source": [
    "t2 = convert(subject=\"01\", session_id=\"02\", task=\"perception\", train=True)\n",
    "np.unique(t2)"
   ]
  },
  {
   "cell_type": "code",
   "execution_count": 21,
   "metadata": {},
   "outputs": [
    {
     "data": {
      "text/plain": [
       "array([ 1,  2,  3,  4,  5,  6,  7,  8,  9, 10])"
      ]
     },
     "execution_count": 21,
     "metadata": {},
     "output_type": "execute_result"
    }
   ],
   "source": [
    "t3 = convert(subject=\"01\", session_id=\"03\", task=\"perception\", train=True)\n",
    "np.unique(t3)"
   ]
  },
  {
   "cell_type": "code",
   "execution_count": 27,
   "metadata": {},
   "outputs": [
    {
     "data": {
      "image/png": "[encoded data removed]",
      "text/plain": [
       "<Figure size 640x480 with 1 Axes>"
      ]
     },
     "metadata": {},
     "output_type": "display_data"
    }
   ],
   "source": [
    "plt.hist(t1, bins=10, alpha=0.5)\n",
    "plt.hist(t2, bins=10, alpha=0.5)\n",
    "plt.hist(t3, bins=10, alpha=0.5)\n",
    "plt.show()"
   ]
  },
  {
   "cell_type": "code",
   "execution_count": null,
   "metadata": {},
   "outputs": [],
   "source": [
    "a ="
   ]
  },
  {
   "cell_type": "code",
   "execution_count": 11,
   "metadata": {},
   "outputs": [],
   "source": [
    "convert(subject=\"01\", session_id=\"01\", task=\"perception\", train=True)\n",
    "convert(subject=\"01\", session_id=\"02\", task=\"perception\", train=True)\n",
    "convert(subject=\"01\", session_id=\"03\", task=\"perception\", train=True)"
   ]
  },
  {
   "cell_type": "code",
   "execution_count": 7,
   "metadata": {},
   "outputs": [],
   "source": [
    "convert(subject=\"02\", session_id=\"01\", task=\"perception\", train=True)\n",
    "convert(subject=\"02\", session_id=\"02\", task=\"perception\", train=True)\n",
    "convert(subject=\"02\", session_id=\"03\", task=\"perception\", train=True)"
   ]
  },
  {
   "cell_type": "code",
   "execution_count": 8,
   "metadata": {},
   "outputs": [],
   "source": [
    "convert(subject=\"03\", session_id=\"01\", task=\"perception\", train=True)\n",
    "convert(subject=\"03\", session_id=\"02\", task=\"perception\", train=True)\n",
    "convert(subject=\"03\", session_id=\"03\", task=\"perception\", train=True)"
   ]
  },
  {
   "cell_type": "code",
   "execution_count": 9,
   "metadata": {},
   "outputs": [],
   "source": [
    "convert(subject=\"04\", session_id=\"01\", task=\"perception\", train=True)\n",
    "convert(subject=\"04\", session_id=\"02\", task=\"perception\", train=True)\n",
    "convert(subject=\"04\", session_id=\"03\", task=\"perception\", train=True)"
   ]
  },
  {
   "cell_type": "code",
   "execution_count": 10,
   "metadata": {},
   "outputs": [],
   "source": [
    "convert(subject=\"05\", session_id=\"01\", task=\"perception\", train=True)\n",
    "convert(subject=\"05\", session_id=\"02\", task=\"perception\", train=True)\n",
    "convert(subject=\"05\", session_id=\"03\", task=\"perception\", train=True)"
   ]
  },
  {
   "cell_type": "code",
   "execution_count": null,
   "metadata": {},
   "outputs": [],
   "source": []
  }
 ],
 "metadata": {
  "kernelspec": {
   "display_name": "v",
   "language": "python",
   "name": "python3"
  },
  "language_info": {
   "codemirror_mode": {
    "name": "ipython",
    "version": 3
   },
   "file_extension": ".py",
   "mimetype": "text/x-python",
   "name": "python",
   "nbconvert_exporter": "python",
   "pygments_lexer": "ipython3",
   "version": "3.10.8"
  },
  "orig_nbformat": 4
 },
 "nbformat": 4,
 "nbformat_minor": 2
}
