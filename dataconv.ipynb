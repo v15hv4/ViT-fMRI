{
 "cells": [
  {
   "cell_type": "code",
   "execution_count": 1,
   "metadata": {},
   "outputs": [],
   "source": [
    "import os\n",
    "import glob\n",
    "import numpy as np\n",
    "import pandas as pd\n",
    "import nibabel as nib\n",
    "\n",
    "import matplotlib.pyplot as plt"
   ]
  },
  {
   "cell_type": "code",
   "execution_count": 2,
   "metadata": {},
   "outputs": [],
   "source": [
    "FEATURES_PATH = \"data/ds001246/derivatives/preproc-spm/output\"\n",
    "TARGETS_PATH = \"data/ds001246\"\n",
    "TRAIN_CATEGORIES_PATH = \"data/ds001246/stimulus_ImageNetTraining.csv\"\n",
    "TEST_CATEGORIES_PATH = \"data/ds001246/stimulus_ImageNetTest.csv\"\n",
    "PROCESSED_PATH = \"data/processed\""
   ]
  },
  {
   "cell_type": "code",
   "execution_count": 3,
   "metadata": {},
   "outputs": [],
   "source": [
    "def convert(subject=\"01\", session_id=\"01\", task=\"perception\", train=True):\n",
    "    session = f\"{task}{'Training' if train else 'Test'}{session_id}\"\n",
    "\n",
    "    # load data\n",
    "    feature_runs = sorted(glob.glob(f\"{FEATURES_PATH}/sub-{subject}/ses-{session}/func/*\"))\n",
    "    target_runs = sorted(glob.glob(f\"{TARGETS_PATH}/sub-{subject}/ses-{session}/func/*events*\"))\n",
    "    categories = pd.read_csv(TRAIN_CATEGORIES_PATH if train else TEST_CATEGORIES_PATH, sep=\"\\t\", header=None)\n",
    "\n",
    "    # process features and targets\n",
    "    features = []\n",
    "    targets = []\n",
    "\n",
    "    for f_run, t_run in zip(feature_runs, target_runs):\n",
    "        features_run = nib.load(f_run).get_fdata()\n",
    "        targets_run = pd.read_csv(t_run, sep=\"\\t\")\n",
    "\n",
    "        # remove resting states\n",
    "        features_run_pp = features_run[:, :, :, 8:-2]\n",
    "        targets_run_pp = targets_run[targets_run[\"event_type\"] != \"rest\"]\n",
    "\n",
    "        # reshape features into (N, C, D, W, H)\n",
    "        features_run_pp = features_run_pp.transpose(3, 2, 1, 0).reshape(-1, 3, 50, 64, 64)\n",
    "\n",
    "        # extract category labels\n",
    "        targets_run_pp = targets_run_pp.merge(categories, left_on=\"stim_id\", right_on=1)[2]\n",
    "        targets_run_pp = targets_run_pp.to_numpy().reshape(-1, 1)\n",
    "\n",
    "        features.append(features_run_pp)\n",
    "        targets.append(targets_run_pp)\n",
    "\n",
    "    features = np.vstack(features)\n",
    "    targets = np.vstack(targets)\n",
    "\n",
    "    # convert and store as tensors\n",
    "    # features = torch.from_numpy(features).float()\n",
    "    # targets = torch.from_numpy(targets).long() - 1\n",
    "\n",
    "    # flatten targets\n",
    "    targets = targets.squeeze()\n",
    "\n",
    "    # save to disk\n",
    "    os.makedirs(f\"{PROCESSED_PATH}/sub-{subject}/ses-{session}/fmris\", exist_ok=True)\n",
    "    os.makedirs(f\"{PROCESSED_PATH}/sub-{subject}/ses-{session}/categories\", exist_ok=True)\n",
    "\n",
    "    for i, (f, t) in enumerate(zip(features, targets)):\n",
    "        np.save(f\"{PROCESSED_PATH}/sub-{subject}/ses-{session}/fmris/{i}.npy\", f)\n",
    "        np.save(f\"{PROCESSED_PATH}/sub-{subject}/ses-{session}/categories/{i}.npy\", t)"
   ]
  },
  {
   "cell_type": "code",
   "execution_count": 4,
   "metadata": {},
   "outputs": [],
   "source": [
    "convert(subject=\"01\", session_id=\"01\", task=\"perception\", train=True)"
   ]
  },
  {
   "cell_type": "code",
   "execution_count": 5,
   "metadata": {},
   "outputs": [],
   "source": [
    "convert(subject=\"01\", session_id=\"01\", task=\"perception\", train=False)"
   ]
  },
  {
   "cell_type": "code",
   "execution_count": 6,
   "metadata": {},
   "outputs": [],
   "source": [
    "from torchvision import transforms"
   ]
  },
  {
   "cell_type": "code",
   "execution_count": 8,
   "metadata": {},
   "outputs": [
    {
     "data": {
      "text/plain": [
       "550"
      ]
     },
     "execution_count": 8,
     "metadata": {},
     "output_type": "execute_result"
    }
   ],
   "source": [
    "len(glob.glob(\"data/processed/sub-01/ses-perceptionTraining01/fmris/*\"))"
   ]
  },
  {
   "cell_type": "code",
   "execution_count": null,
   "metadata": {},
   "outputs": [],
   "source": []
  }
 ],
 "metadata": {
  "kernelspec": {
   "display_name": "v",
   "language": "python",
   "name": "python3"
  },
  "language_info": {
   "codemirror_mode": {
    "name": "ipython",
    "version": 3
   },
   "file_extension": ".py",
   "mimetype": "text/x-python",
   "name": "python",
   "nbconvert_exporter": "python",
   "pygments_lexer": "ipython3",
   "version": "3.10.8"
  },
  "orig_nbformat": 4
 },
 "nbformat": 4,
 "nbformat_minor": 2
}
