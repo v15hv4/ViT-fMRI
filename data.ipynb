{
 "cells": [
  {
   "cell_type": "code",
   "execution_count": 81,
   "metadata": {},
   "outputs": [],
   "source": [
    "import glob\n",
    "import numpy as np\n",
    "import pandas as pd\n",
    "import nibabel as nib\n",
    "import seaborn as sns\n",
    "import matplotlib.pyplot as plt\n",
    "\n",
    "import torch\n",
    "from torch.utils.data import Dataset"
   ]
  },
  {
   "cell_type": "code",
   "execution_count": 2,
   "metadata": {},
   "outputs": [],
   "source": [
    "# better plots\n",
    "sns.set_style(\"whitegrid\")"
   ]
  },
  {
   "cell_type": "code",
   "execution_count": 3,
   "metadata": {},
   "outputs": [],
   "source": [
    "# config\n",
    "FEATURES_PATH = \"data/ds001246/derivatives/preproc-spm/output/\"\n",
    "TARGETS_PATH = \"data/ds001246/\"\n",
    "TRAIN_CATEGORIES_PATH = \"data/ds001246/stimulus_ImageNetTraining.csv\"\n",
    "TEST_CATEGORIES_PATH = \"data/ds001246/stimulus_ImageNetTest.csv\""
   ]
  },
  {
   "cell_type": "code",
   "execution_count": 102,
   "metadata": {},
   "outputs": [],
   "source": [
    "class GODData(Dataset):\n",
    "    FEATURES_PATH = \"data/ds001246/derivatives/preproc-spm/output/\"\n",
    "    TARGETS_PATH = \"data/ds001246/\"\n",
    "    TRAIN_CATEGORIES_PATH = \"data/ds001246/stimulus_ImageNetTraining.csv\"\n",
    "    TEST_CATEGORIES_PATH = \"data/ds001246/stimulus_ImageNetTest.csv\"\n",
    "\n",
    "    def __init__(self, subject=\"01\", session_id=\"01\", task=\"perception\", train=True):\n",
    "        session = f\"{task}{'Training' if train else 'Test'}{session_id}\"\n",
    "\n",
    "        feature_runs = sorted(glob.glob(f\"{self.FEATURES_PATH}/sub-{subject}/ses-{session}/func/*\"))\n",
    "        target_runs = sorted(glob.glob(f\"{self.TARGETS_PATH}/sub-{subject}/ses-{session}/func/*events*\"))\n",
    "\n",
    "        features = []\n",
    "        targets = []\n",
    "\n",
    "        categories = pd.read_csv(self.TRAIN_CATEGORIES_PATH if train else self.TEST_CATEGORIES_PATH, sep=\"\\t\", header=None)\n",
    "\n",
    "        for f_run, t_run in zip(feature_runs, target_runs):\n",
    "            features_run = nib.load(f_run).get_fdata()\n",
    "            targets_run = pd.read_csv(t_run, sep=\"\\t\")\n",
    "\n",
    "            # remove resting states\n",
    "            features_run_pp = features_run[:, :, :, 8:-2]\n",
    "            targets_run_pp = targets_run[targets_run[\"event_type\"] != \"rest\"]\n",
    "\n",
    "            # reshape features into (N, C, D, W, H)\n",
    "            features_run_pp = features_run_pp.reshape(-1, 3, 50, 64, 64)\n",
    "\n",
    "            # extract category labels\n",
    "            targets_run_pp = targets_run_pp.merge(categories, left_on=\"stim_id\", right_on=1)[2]\n",
    "            targets_run_pp = targets_run_pp.to_numpy().reshape(-1, 1)\n",
    "\n",
    "            features.append(features_run_pp)\n",
    "            targets.append(targets_run_pp)\n",
    "\n",
    "        features = np.vstack(features)\n",
    "        targets = np.vstack(targets)\n",
    "\n",
    "        # convert and store as tensors\n",
    "        self.features = torch.from_numpy(features).float()\n",
    "        self.targets = torch.from_numpy(targets).long()\n",
    "\n",
    "    def __len__(self):\n",
    "        return len(self.features)\n",
    "\n",
    "    def __getitem__(self, index):\n",
    "        feature = self.features[index]\n",
    "        target = self.targets[index]\n",
    "        return feature, target"
   ]
  },
  {
   "cell_type": "code",
   "execution_count": 103,
   "metadata": {},
   "outputs": [
    {
     "name": "stdout",
     "output_type": "stream",
     "text": [
      "2766534.015976\n",
      "3665924.055985\n",
      "4409515.002581\n",
      "4086273.005433\n",
      "3950228.020813\n",
      "1855672.0159\n",
      "3623556.012791\n",
      "4254680.00174\n",
      "4373894.026002\n",
      "3063599.003234\n"
     ]
    }
   ],
   "source": [
    "data = GODData(subject=\"01\", session_id=\"01\", task=\"perception\", train=True)"
   ]
  },
  {
   "cell_type": "code",
   "execution_count": null,
   "metadata": {},
   "outputs": [],
   "source": []
  }
 ],
 "metadata": {
  "kernelspec": {
   "display_name": "v",
   "language": "python",
   "name": "python3"
  },
  "language_info": {
   "codemirror_mode": {
    "name": "ipython",
    "version": 3
   },
   "file_extension": ".py",
   "mimetype": "text/x-python",
   "name": "python",
   "nbconvert_exporter": "python",
   "pygments_lexer": "ipython3",
   "version": "3.10.8"
  },
  "orig_nbformat": 4
 },
 "nbformat": 4,
 "nbformat_minor": 2
}
