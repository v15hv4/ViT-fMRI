{
 "cells": [
  {
   "cell_type": "code",
   "execution_count": 1,
   "metadata": {},
   "outputs": [],
   "source": [
    "import os\n",
    "import glob"
   ]
  },
  {
   "cell_type": "code",
   "execution_count": 2,
   "metadata": {},
   "outputs": [],
   "source": [
    "PROCESSED_PATH = \"data/10classes\"\n",
    "COMBINED_PATH = \"data/10classes\""
   ]
  },
  {
   "cell_type": "code",
   "execution_count": 3,
   "metadata": {},
   "outputs": [],
   "source": [
    "def flatten(subject):\n",
    "    counter = 0\n",
    "    for s in [\"01\", \"02\", \"03\"]:\n",
    "        fmris = sorted(glob.glob(f\"{PROCESSED_PATH}/sub-{subject}/ses-perceptionTraining{s}/fmris/*\"))\n",
    "        cats = sorted(glob.glob(f\"{PROCESSED_PATH}/sub-{subject}/ses-perceptionTraining{s}/categories/*\"))\n",
    "\n",
    "        os.makedirs(f\"{COMBINED_PATH}/sub-{subject}/dataset/fmris\", exist_ok=True)\n",
    "        os.makedirs(f\"{COMBINED_PATH}/sub-{subject}/dataset/categories\", exist_ok=True)\n",
    "\n",
    "        for f, c in zip(fmris, cats):\n",
    "            os.rename(f, f\"{COMBINED_PATH}/sub-{subject}/dataset/fmris/{counter}.npy\")\n",
    "            os.rename(c, f\"{COMBINED_PATH}/sub-{subject}/dataset/categories/{counter}.npy\")\n",
    "            counter += 1"
   ]
  },
  {
   "cell_type": "code",
   "execution_count": 4,
   "metadata": {},
   "outputs": [],
   "source": [
    "flatten(\"01\")"
   ]
  },
  {
   "cell_type": "code",
   "execution_count": 5,
   "metadata": {},
   "outputs": [],
   "source": [
    "flatten(\"02\")"
   ]
  },
  {
   "cell_type": "code",
   "execution_count": 6,
   "metadata": {},
   "outputs": [],
   "source": [
    "flatten(\"03\")"
   ]
  },
  {
   "cell_type": "code",
   "execution_count": 7,
   "metadata": {},
   "outputs": [],
   "source": [
    "flatten(\"04\")"
   ]
  },
  {
   "cell_type": "code",
   "execution_count": 8,
   "metadata": {},
   "outputs": [],
   "source": [
    "flatten(\"05\")"
   ]
  },
  {
   "cell_type": "code",
   "execution_count": null,
   "metadata": {},
   "outputs": [],
   "source": []
  }
 ],
 "metadata": {
  "kernelspec": {
   "display_name": "v",
   "language": "python",
   "name": "python3"
  },
  "language_info": {
   "codemirror_mode": {
    "name": "ipython",
    "version": 3
   },
   "file_extension": ".py",
   "mimetype": "text/x-python",
   "name": "python",
   "nbconvert_exporter": "python",
   "pygments_lexer": "ipython3",
   "version": "3.10.8"
  },
  "orig_nbformat": 4
 },
 "nbformat": 4,
 "nbformat_minor": 2
}
