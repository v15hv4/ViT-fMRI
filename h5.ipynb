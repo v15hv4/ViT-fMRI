{
 "cells": [
  {
   "cell_type": "code",
   "execution_count": 22,
   "metadata": {},
   "outputs": [],
   "source": [
    "import bdpy\n",
    "import numpy as np\n",
    "import seaborn as sns\n",
    "import matplotlib.pyplot as plt\n",
    "\n",
    "from itertools import product"
   ]
  },
  {
   "cell_type": "code",
   "execution_count": 2,
   "metadata": {},
   "outputs": [],
   "source": [
    "sns.set_style(\"whitegrid\")"
   ]
  },
  {
   "cell_type": "code",
   "execution_count": 3,
   "metadata": {},
   "outputs": [],
   "source": [
    "# config\n",
    "subjects = {\n",
    "    \"Subject1\": [\"data/gh/Subject1.h5\"],\n",
    "}\n",
    "\n",
    "rois = {\n",
    "    \"VC\": \"ROI_VC = 1\",\n",
    "    \"LVC\": \"ROI_LVC = 1\",\n",
    "    \"HVC\": \"ROI_HVC = 1\",\n",
    "    \"V1\": \"ROI_V1 = 1\",\n",
    "    \"V2\": \"ROI_V2 = 1\",\n",
    "    \"V3\": \"ROI_V3 = 1\",\n",
    "    \"V4\": \"ROI_V4 = 1\",\n",
    "    \"LOC\": \"ROI_LOC = 1\",\n",
    "    \"FFA\": \"ROI_FFA = 1\",\n",
    "    \"PPA\": \"ROI_PPA = 1\",\n",
    "}"
   ]
  },
  {
   "cell_type": "code",
   "execution_count": 4,
   "metadata": {},
   "outputs": [],
   "source": [
    "# load data\n",
    "data_all = {}\n",
    "for sbj in subjects:\n",
    "    if len(subjects[sbj]) == 1:\n",
    "        data_all[sbj] = bdpy.BData(subjects[sbj][0])\n",
    "    else:\n",
    "        # Concatenate data\n",
    "        suc_cols = [\"Run\", \"Block\"]\n",
    "        data_all[sbj] = concat_dataset(\n",
    "            [bdpy.BData(f) for f in subjects[sbj]], \n",
    "            successive=suc_cols\n",
    "        )"
   ]
  },
  {
   "cell_type": "code",
   "execution_count": 5,
   "metadata": {},
   "outputs": [],
   "source": [
    "# analyze first ROI of subject 1\n",
    "sbj = list(subjects.keys())[0]\n",
    "roi = list(rois.keys())[0]"
   ]
  },
  {
   "cell_type": "code",
   "execution_count": 6,
   "metadata": {},
   "outputs": [],
   "source": [
    "dat = data_all[sbj]"
   ]
  },
  {
   "cell_type": "code",
   "execution_count": 7,
   "metadata": {},
   "outputs": [],
   "source": [
    "x = dat.select(rois[roi])\n",
    "datatype = dat.select(\"DataType\")\n",
    "labels = dat.select(\"stimulus_id\")"
   ]
  },
  {
   "cell_type": "code",
   "execution_count": 8,
   "metadata": {},
   "outputs": [
    {
     "data": {
      "text/plain": [
       "(3450, 4466)"
      ]
     },
     "execution_count": 8,
     "metadata": {},
     "output_type": "execute_result"
    }
   ],
   "source": [
    "x.shape"
   ]
  },
  {
   "cell_type": "code",
   "execution_count": 9,
   "metadata": {},
   "outputs": [
    {
     "data": {
      "text/plain": [
       "(3450, 1)"
      ]
     },
     "execution_count": 9,
     "metadata": {},
     "output_type": "execute_result"
    }
   ],
   "source": [
    "datatype.shape"
   ]
  },
  {
   "cell_type": "code",
   "execution_count": 10,
   "metadata": {},
   "outputs": [
    {
     "data": {
      "text/plain": [
       "(3450, 1)"
      ]
     },
     "execution_count": 10,
     "metadata": {},
     "output_type": "execute_result"
    }
   ],
   "source": [
    "labels.shape"
   ]
  },
  {
   "cell_type": "code",
   "execution_count": 11,
   "metadata": {},
   "outputs": [],
   "source": [
    "# Get training and test dataset\n",
    "i_train = (datatype == 1).flatten()    # Index for training\n",
    "i_test_pt = (datatype == 2).flatten()  # Index for perception test\n",
    "i_test_im = (datatype == 3).flatten()  # Index for imagery test\n",
    "i_test = i_test_pt + i_test_im"
   ]
  },
  {
   "cell_type": "code",
   "execution_count": 12,
   "metadata": {},
   "outputs": [],
   "source": [
    "x_train = x[i_train, :]\n",
    "x_test = x[i_test, :]"
   ]
  },
  {
   "cell_type": "code",
   "execution_count": 13,
   "metadata": {},
   "outputs": [
    {
     "data": {
      "text/plain": [
       "(1200, 4466)"
      ]
     },
     "execution_count": 13,
     "metadata": {},
     "output_type": "execute_result"
    }
   ],
   "source": [
    "x_train.shape"
   ]
  },
  {
   "cell_type": "code",
   "execution_count": 14,
   "metadata": {},
   "outputs": [
    {
     "data": {
      "image/png": "[encoded data removed]",
      "text/plain": [
       "<Figure size 640x480 with 1 Axes>"
      ]
     },
     "metadata": {},
     "output_type": "display_data"
    }
   ],
   "source": [
    "plt.plot(x_train[0], \"k\")\n",
    "plt.show()"
   ]
  },
  {
   "cell_type": "code",
   "execution_count": null,
   "metadata": {},
   "outputs": [],
   "source": []
  },
  {
   "cell_type": "code",
   "execution_count": null,
   "metadata": {},
   "outputs": [],
   "source": []
  }
 ],
 "metadata": {
  "kernelspec": {
   "display_name": "Python 3 (ipykernel)",
   "language": "python",
   "name": "python3"
  },
  "language_info": {
   "codemirror_mode": {
    "name": "ipython",
    "version": 3
   },
   "file_extension": ".py",
   "mimetype": "text/x-python",
   "name": "python",
   "nbconvert_exporter": "python",
   "pygments_lexer": "ipython3",
   "version": "3.10.8"
  }
 },
 "nbformat": 4,
 "nbformat_minor": 4
}
